{
 "cells": [
  {
   "cell_type": "code",
   "execution_count": 2,
   "id": "bb1c52c1-23d9-42f3-9ad4-49c91ec67d44",
   "metadata": {},
   "outputs": [
    {
     "name": "stdout",
     "output_type": "stream",
     "text": [
      "90\n"
     ]
    }
   ],
   "source": [
    "arr = [1,8,7,56,90]\n",
    "print(max(arr))"
   ]
  },
  {
   "cell_type": "code",
   "execution_count": null,
   "id": "dcdd7721-021d-448f-ad38-5d7a66aedbce",
   "metadata": {},
   "outputs": [],
   "source": []
  }
 ],
 "metadata": {
  "kernelspec": {
   "display_name": "Python 3 (ipykernel)",
   "language": "python",
   "name": "python3"
  },
  "language_info": {
   "codemirror_mode": {
    "name": "ipython",
    "version": 3
   },
   "file_extension": ".py",
   "mimetype": "text/x-python",
   "name": "python",
   "nbconvert_exporter": "python",
   "pygments_lexer": "ipython3",
   "version": "3.11.7"
  }
 },
 "nbformat": 4,
 "nbformat_minor": 5
}
